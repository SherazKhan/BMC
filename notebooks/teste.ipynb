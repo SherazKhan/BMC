{
 "cells": [
  {
   "cell_type": "code",
   "execution_count": null,
   "metadata": {},
   "outputs": [],
   "source": [
    "import numpy as np\n",
    "%matplotlib inline\n",
    "import matplotlib.pyplot as plt"
   ]
  },
  {
   "cell_type": "code",
   "execution_count": null,
   "metadata": {},
   "outputs": [],
   "source": [
    "import pandas as pd  # use Pandas to read data from a website\n",
    "fileUrl = 'http://www.udel.edu/biology/rosewc/kaap686/reserve/cop/copdata.txt'\n",
    "COP = pd.read_table(fileUrl, skipinitialspace=True, sep=None, engine='python')  # Pandas dataframe\n",
    "COP = COP.values / 10  # mm to cm\n",
    "COPap = COP[:,0]\n",
    "COPml = COP[:,1]\n",
    "freq = 100\n",
    "print('COP shape: ', COP.shape)"
   ]
  },
  {
   "cell_type": "code",
   "execution_count": null,
   "metadata": {},
   "outputs": [],
   "source": [
    "def cop_plot(freq, COP, units='cm'):\n",
    "    '''\n",
    "    Plot COP data from postural sway measurement.\n",
    "    '''\n",
    "    import matplotlib.gridspec as gridspec\n",
    "    t = np.linspace(0, COP.shape[0]/freq, COP.shape[0])\n",
    "    plt.rc('axes', labelsize=16,  titlesize=16)\n",
    "    plt.rc('xtick', labelsize=12)\n",
    "    plt.rc('ytick', labelsize=12)\n",
    "    plt.figure(figsize=(10, 4))\n",
    "    gs = gridspec.GridSpec(1, 2, width_ratios=[2, 1]) \n",
    "    ax1 = plt.subplot(gs[0])\n",
    "    ax1.plot(t, COPap, lw=2, color=[0, 0, 1, 1], label='ap')\n",
    "    ax1.plot(t, COPml, lw=2, color=[1, 0, 0, 1], label='ml')\n",
    "    ax1.set_xlim([t[0], t[-1]])\n",
    "    ax1.grid()\n",
    "    ax1.locator_params(axis='both', nbins=5)\n",
    "    ax1.set_xlabel('Time [s]')\n",
    "    ax1.set_ylabel('COP [%s]' %units)\n",
    "    ax1.set_title('Stabilogram')\n",
    "    ax1.legend(fontsize=12, loc='best', framealpha=.5)\n",
    "    ax2 = plt.subplot(gs[1])\n",
    "    ax2.plot(COPml, COPap, lw=2, color='g')\n",
    "    ax2.set_xlabel('COP ml [%s]' %units)\n",
    "    ax2.set_ylabel('COP ap [%s]' %units)\n",
    "    ax2.set_title('Statokinesigram')\n",
    "    if 0:  # plot the axes with the same colors of the COP data\n",
    "        ax2.xaxis.label.set_color('red')\n",
    "        ax2.spines['bottom'].set_color('red')\n",
    "        ax2.tick_params(axis='x', colors='red')\n",
    "        ax2.yaxis.label.set_color('blue')\n",
    "        ax2.spines['left'].set_color('blue')\n",
    "        ax2.tick_params(axis='y', colors='blue')\n",
    "    ax2.grid()\n",
    "    ax2.locator_params(axis='both', nbins=5)\n",
    "    plt.tight_layout()\n",
    "    plt.show()"
   ]
  },
  {
   "cell_type": "code",
   "execution_count": null,
   "metadata": {},
   "outputs": [],
   "source": [
    "# plot data\n",
    "cop_plot(freq, COP)"
   ]
  }
 ],
 "metadata": {
  "kernelspec": {
   "display_name": "Python 3",
   "language": "python",
   "name": "python3"
  },
  "language_info": {
   "codemirror_mode": {
    "name": "ipython",
    "version": 3
   },
   "file_extension": ".py",
   "mimetype": "text/x-python",
   "name": "python",
   "nbconvert_exporter": "python",
   "pygments_lexer": "ipython3",
   "version": "3.6.5"
  }
 },
 "nbformat": 4,
 "nbformat_minor": 1
}
